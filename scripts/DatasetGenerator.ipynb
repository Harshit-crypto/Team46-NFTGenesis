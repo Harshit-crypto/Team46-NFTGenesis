{
  "cells": [
    {
      "cell_type": "markdown",
      "metadata": {},
      "source": [
        "<h1>Dataset generation using OpenSea public API</h1>\n",
        "<h5>OpenSea provides an external API to retrive data form their platform for project and research purposes. Tokens along with their metadata which included title, description, sales data and ownership history were retrieved and successfully stored within a data repository. </h5>"
      ]
    },
    {
      "cell_type": "code",
      "execution_count": null,
      "metadata": {},
      "outputs": [],
      "source": [
        "%pip install urllib2\n",
        "import urllib.request \n",
        "import requests\n",
        "import pandas as pd"
      ]
    },
    {
      "cell_type": "code",
      "execution_count": null,
      "metadata": {
        "id": "SSYNgIyMsZkR"
      },
      "outputs": [],
      "source": [
        "api_key = \"1f915b9cbb944453ba2ef265b9754809\"\n",
        "headers = {'User-Agent': 'Mozilla/5.0 (Macintosh; Intel Mac OS X 10_11_5) AppleWebKit/537.36 (KHTML, like Gecko) Chrome/50.0.2661.102 Safari/537.36',\"X-API-KEY\": api_key}"
      ]
    },
    {
      "cell_type": "code",
      "execution_count": null,
      "metadata": {
        "id": "5sz_Irq_hRpD"
      },
      "outputs": [],
      "source": [
        "df = pd.DataFrame(columns=['id', 'token_id', 'num_sales', 'background_color', 'image_url', 'image_preview_url', 'image_thumbnail_url', 'image_original_url', 'animation_url', 'animation_original_url', 'name', 'description', 'external_link', 'asset_contract', 'permalink', 'collection', 'decimals', 'token_metadata', 'is_nsfw', 'owner', 'seaport_sell_orders', 'creator', 'traits', 'last_sale', 'top_bid', 'listing_date', 'supports_wyvern', 'rarity_data', 'transfer_fee', 'transfer_fee_payment_token'])"
      ]
    },
    {
      "cell_type": "markdown",
      "metadata": {},
      "source": [
        "<h5>Fetching NFT assets data (token, metadata) in batches of 200 tokens in 5000 cycles to avoid overloading of API requests. Retrieved data is stored in a .csv file.</h5>"
      ]
    },
    {
      "cell_type": "code",
      "execution_count": 1,
      "metadata": {
        "colab": {
          "base_uri": "https://localhost:8080/"
        },
        "id": "3vrxYHWGXU5q",
        "outputId": "2ef1ece2-7271-4e16-80de-66289f163c2b"
      },
      "outputs": [
        {
          "name": "stdout",
          "output_type": "stream",
          "text": [
            "\n",
            "Done writing to csv\n"
          ]
        }
      ],
      "source": [
        "offset=0\n",
        "k=0\n",
        "for n in range(5000):\n",
        "  try:\n",
        "    if n!=0:\n",
        "      offset+=200\n",
        "    endpoint=\"https://api.opensea.io/api/v1/assets?offset=\"+str(offset)+\"&limit=200\"\n",
        "    response = requests.get(endpoint, headers=headers)\n",
        "    id_l=[]\n",
        "    token_id_l=[]\n",
        "    if response.status_code == 200:\n",
        "        data = response.json()\n",
        "        for i in data['assets']:\n",
        "          if i['image_url']!=None:\n",
        "            df=df.append(i,ignore_index=True)\n",
        "            print(\"-\",end=\"\")\n",
        "            k+=1  \n",
        "  except:\n",
        "    continue\n",
        "df.to_csv('dataset.csv')\n",
        "print(\"\\nDone writing to csv\")"
      ]
    },
    {
      "cell_type": "markdown",
      "metadata": {},
      "source": [
        "<h5>158878 tokens are further stored in a data repo using google drive API for pre-processing</h5>"
      ]
    },
    {
      "cell_type": "code",
      "execution_count": null,
      "metadata": {
        "id": "6q68saSNnUyB"
      },
      "outputs": [],
      "source": [
        "df = pd.read_csv('dataset.csv')"
      ]
    },
    {
      "cell_type": "code",
      "execution_count": 3,
      "metadata": {},
      "outputs": [
        {
          "name": "stdout",
          "output_type": "stream",
          "text": [
            "158878  images have been written to repository\n"
          ]
        }
      ],
      "source": [
        "img_urls=df['image_url']\n",
        "k=0\n",
        "for i in img_urls:\n",
        "  try:\n",
        "    file_name= \"/content/gdrive/MyDrive/capstone\"+\"/image\"+str(k)+\".jpg\"\n",
        "    urllib.request.urlretrieve(i, file_name)\n",
        "    k+=1\n",
        "  except:\n",
        "    continue\n",
        "print(k,\" images have been written to repository\")"
      ]
    }
  ],
  "metadata": {
    "colab": {
      "provenance": []
    },
    "kernelspec": {
      "display_name": "Python 3",
      "name": "python3"
    },
    "language_info": {
      "codemirror_mode": {
        "name": "ipython",
        "version": 3
      },
      "file_extension": ".py",
      "mimetype": "text/x-python",
      "name": "python",
      "nbconvert_exporter": "python",
      "pygments_lexer": "ipython3",
      "version": "3.9.13"
    }
  },
  "nbformat": 4,
  "nbformat_minor": 0
}
